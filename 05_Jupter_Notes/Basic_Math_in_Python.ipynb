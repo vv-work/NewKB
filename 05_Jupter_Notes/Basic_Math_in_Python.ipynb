{
  "cells": [
    {
      "cell_type": "markdown",
      "metadata": {
        "id": "view-in-github",
        "colab_type": "text"
      },
      "source": [
        "<a href=\"https://colab.research.google.com/github/vv-work/NewKB/blob/main/Basic_Math_in_Python.ipynb\" target=\"_parent\"><img src=\"https://colab.research.google.com/assets/colab-badge.svg\" alt=\"Open In Colab\"/></a>"
      ]
    },
    {
      "cell_type": "markdown",
      "metadata": {
        "id": "bQHJlbAWlLeD"
      },
      "source": [
        "### Name:\n",
        "### Student Number:"
      ]
    },
    {
      "cell_type": "markdown",
      "metadata": {
        "id": "5yersCGNlLeG"
      },
      "source": [
        "# Python Workbook 1 - Introduction to Python\n",
        "\n",
        "In this __Jupyter__ workbook, we will cover the following topics:\n",
        "1. Layout of the Jupyter Notebook environment.\n",
        "2. Importing libraries and functions.\n",
        "3. Defining our own functions.\n",
        "4. Plotting functions.\n",
        "> It is sort of retarted  but I should give it a shot\n",
        "\n",
        "## Images are still suse\n",
        "\n",
        "```rust\n",
        "\n",
        "fn main(){\n",
        "  for x in 1..5{\n",
        "    let out = x*x\n",
        "    printf!(\"Hello Rust world {}\",out)\n",
        "  }\n",
        "}\n",
        "```"
      ]
    },
    {
      "cell_type": "markdown",
      "metadata": {
        "id": "_Aw9DtEulLeH"
      },
      "source": [
        "## 1. The Jupyter Notebook Environment\n",
        "\n",
        "For these practicals we will use the Jupyter notebook environment to write and run all our Python scripts. The _cells_ in these Jupyter notbeooks will always be either\n",
        "\n",
        "1. __Markdown__ (how this cell is written)\n",
        "2. __Code__ (see the cell below)"
      ]
    },
    {
      "cell_type": "markdown",
      "metadata": {
        "id": "-sJLySbqlLeH"
      },
      "source": [
        "* Changing a cell from __Markdown__ to __Code__ or vice-versa can be done through the drop down menu appearing in the tool bar at the top of the Jupyter notebook.\n",
        "\n",
        "* To run a cell of either type, press the keys __Shift+Enter__ together.\n",
        "\n",
        "* To create a __comment__ in a code cell, place a \\# before the text you wish to comment.\n",
        "\n",
        "* To edit a markdown cell, __double-click__ the cell you wish to edit until the source for that cell appears. To return the cell to standard output press __Shift+Enter__.\n",
        "\n",
        "* To create an additional cell in the workbook, go to the __Insert__ tab at the top of the workbook."
      ]
    },
    {
      "cell_type": "markdown",
      "metadata": {
        "id": "2_D5xCZrlLeI"
      },
      "source": [
        "## 2.1 Importing Libraries\n",
        "\n",
        "In most of the Jupyter notebooks we will work on, the following three __function libraries__ will be used throughout.\n",
        "1. __matplotlib.pylot__ - Used for plotting.\n",
        "2. __sympy__ - Symbolic Python for symbolic representations and calculations.\n",
        "3. __numpy__ - Numerical Python for numerical computations and plotting.\n",
        "\n",
        "We import these libraries using the command __import__ as in the following code cell:"
      ]
    },
    {
      "cell_type": "code",
      "execution_count": null,
      "metadata": {
        "collapsed": true,
        "id": "ml_KsnbVlLeJ"
      },
      "outputs": [],
      "source": [
        "import matplotlib.pyplot as plt\n",
        "import numpy as np\n",
        "import sympy as sym"
      ]
    },
    {
      "cell_type": "markdown",
      "metadata": {
        "id": "RQ1F2tU5lLeK"
      },
      "source": [
        "* When we import these libraries we include the additinal command __as__ to apply a shortened name of our choice to each library.\n",
        "\n",
        "* We do this to avoid having to re-write the full library name each time we want to call a Python function from that library.\n",
        "\n",
        "To ensure all our plots appear in the Jupyter workbook, we include the following command at the start of each notebook:"
      ]
    },
    {
      "cell_type": "code",
      "execution_count": null,
      "metadata": {
        "collapsed": true,
        "id": "6xQvvpsplLeK"
      },
      "outputs": [],
      "source": [
        "%matplotlib inline"
      ]
    },
    {
      "cell_type": "markdown",
      "metadata": {
        "id": "FxFYWxptlLeK"
      },
      "source": [
        "## 2.2 Importing Functions\n",
        "\n",
        "When we need to define our own functions at a later point, it will be useful to have some standard functions already imported, from which we can build our own functions.\n",
        "\n",
        "In the cell below we will import the following mathematical functions from the __numpy__ library\n",
        "\n",
        "1. cos\n",
        "2. sin\n",
        "3. tan\n",
        "4. e (called exp in Python)\n",
        "5. ln (called log in Python)"
      ]
    },
    {
      "cell_type": "code",
      "execution_count": null,
      "metadata": {
        "collapsed": true,
        "id": "TLcGIi9xlLeL"
      },
      "outputs": [],
      "source": [
        "from numpy import cos, sin, tan, exp, log"
      ]
    },
    {
      "cell_type": "markdown",
      "metadata": {
        "id": "vBsU-qfMlLeM"
      },
      "source": [
        "## 3. Defining our own functions\n",
        "### 3.1 Algebraic Functions\n",
        "\n",
        "* Now that we have imported some standard functions from the __numpy__ library, we can use these to define more complicated functions\n",
        "\n",
        "* In the code cell below, we will write a Python function to define the mathematical function\n",
        "\\\\[\n",
        " f(x) = x^2-4x-5\n",
        "\\\\]\n",
        "\n",
        "* Before we do this we note the following sytax\n",
        "    1. Powers are _always_ written using __**__ e.g. $4^{5}$ is written as __4**5__ in Python\n",
        "    2. Multiplication is _always_ written using __*__ e.g. $4t$ is written as __4*t__\n",
        "\n",
        "\n",
        "* The function $f(x)$ above is given by the following Python function we call __f(x)__"
      ]
    },
    {
      "cell_type": "code",
      "execution_count": null,
      "metadata": {
        "collapsed": true,
        "id": "dw1k8vehlLeM"
      },
      "outputs": [],
      "source": [
        "def f(x):\n",
        "    f=x**2-4*x-5\n",
        "    return f"
      ]
    },
    {
      "cell_type": "markdown",
      "metadata": {
        "id": "9grJz1FClLeN"
      },
      "source": [
        "We can now use this function to evaluate its numerical value at various values of $x$. For example, the numerical values\n",
        "\\\\[\n",
        " f(0), f(2), f(-9), f(-4), f(200), f(1000000)  \n",
        "\\\\]\n",
        "are given by"
      ]
    },
    {
      "cell_type": "code",
      "execution_count": null,
      "metadata": {
        "id": "CgHEFICrlLeN",
        "outputId": "e04738b6-1ed0-43c9-aea8-c9b144d90762"
      },
      "outputs": [
        {
          "data": {
            "text/plain": [
              "(-5, -9, 112, 27, 39195, 999995999995)"
            ]
          },
          "execution_count": 47,
          "metadata": {},
          "output_type": "execute_result"
        }
      ],
      "source": [
        "f(0), f(2), f(-9), f(-4), f(200), f(1000000)"
      ]
    },
    {
      "cell_type": "markdown",
      "metadata": {
        "id": "YxRnIPDulLeO"
      },
      "source": [
        "## Exercise 1:\n",
        "\n",
        "1. Create a Python function for the mathematical expression\n",
        "\\\\[\n",
        " g(x) = x^3-4x^2+5x-25\n",
        "\\\\]\n",
        "\n",
        "2. Use this Python function to evaluate\n",
        "\\\\[\n",
        "    g(-20), g(-15), g(-5), g(0), g(2), g(8), g(64), g(256), g(512), g(21122112)\n",
        "\\\\]"
      ]
    },
    {
      "cell_type": "code",
      "execution_count": null,
      "metadata": {
        "id": "5o7szp1olLeO",
        "outputId": "f8d52e23-87e0-490a-f038-3ee79daba014"
      },
      "outputs": [
        {
          "data": {
            "text/plain": [
              "(-9725,\n",
              " -4375,\n",
              " -275,\n",
              " -25,\n",
              " -23,\n",
              " 271,\n",
              " 246055,\n",
              " 16516327,\n",
              " 133171687,\n",
              " 9423493626733532757287)"
            ]
          },
          "execution_count": 49,
          "metadata": {},
          "output_type": "execute_result"
        }
      ],
      "source": [
        "def g(x):\n",
        "    g=x**3-4*x**2+5*x-25\n",
        "    return g\n",
        "\n",
        "g(-20), g(-15), g(-5), g(0), g(2), g(8), g(64), g(256), g(512), g(21122112)"
      ]
    },
    {
      "cell_type": "markdown",
      "metadata": {
        "id": "_rCp2Wn0lLeP"
      },
      "source": [
        "## 3.2 Transcendental Functions\n",
        "* We can use some of the mathematical functions we previously imported from __numpy__ to define some more complicated examples of __transecndental functions__\n",
        "* In the cell below, we will create a Python function to represent the mathematical expression\n",
        "\\\\[\n",
        " h(t)=4e^{-t}+\\sin(\\pi t)\n",
        "\\\\]"
      ]
    },
    {
      "cell_type": "code",
      "execution_count": null,
      "metadata": {
        "collapsed": true,
        "id": "vKxyV3J9lLeP"
      },
      "outputs": [],
      "source": [
        "def h(t):\n",
        "    h=4*exp(-t)+sin(np.pi*t)\n",
        "    return h"
      ]
    },
    {
      "cell_type": "markdown",
      "metadata": {
        "id": "iOYIbiO9lLeP"
      },
      "source": [
        "#### __np.pi__\n",
        "\n",
        "* When we created this function we had to instruct the function to use the __numerical value __ of $\\pi$ avaialible in the numpy library, and so we called the value as __np.pi__ i.e. from the numpy library call the value pi.\n",
        "* The numerical value of pi in this library is shown by calling it in the code cell below.\n",
        "* If we hadn't previously called the functions __sin__ and __exp__ we would have had to call each of these as np.sin and np.exp in the Python function above."
      ]
    },
    {
      "cell_type": "code",
      "execution_count": null,
      "metadata": {
        "id": "6uxQgzEHlLeQ",
        "outputId": "cd2ec6c2-595f-4ddc-e2b3-c77c7f9dc986"
      },
      "outputs": [
        {
          "data": {
            "text/plain": [
              "3.141592653589793"
            ]
          },
          "execution_count": 51,
          "metadata": {},
          "output_type": "execute_result"
        }
      ],
      "source": [
        "np.pi"
      ]
    },
    {
      "cell_type": "markdown",
      "metadata": {
        "id": "Jz4Ya5xSlLeQ"
      },
      "source": [
        "We can now evaluate the values of $h(t)$ at arbitrary values of $t$ in the usual way. For example, the numerical values\n",
        "\\\\[\n",
        "h(-4), h(-2), h(0), h(0.45), h(1.25), h(1.5), h(1.68)\n",
        "\\\\]\n",
        "are given by"
      ]
    },
    {
      "cell_type": "code",
      "execution_count": null,
      "metadata": {
        "id": "zaZJVxRXlLeQ",
        "outputId": "734dbb66-ee10-4f0f-c8ec-d5855b4dd0c2"
      },
      "outputs": [
        {
          "data": {
            "text/plain": [
              "(218.39260013257694,\n",
              " 29.556224395722602,\n",
              " 4.0,\n",
              " 3.5382009470822311,\n",
              " 0.43891240625421291,\n",
              " -0.10747935940628073,\n",
              " -0.098832021344375631)"
            ]
          },
          "execution_count": 52,
          "metadata": {},
          "output_type": "execute_result"
        }
      ],
      "source": [
        "h(-4), h(-2), h(0), h(0.45), h(1.25), h(1.5), h(1.68)"
      ]
    },
    {
      "cell_type": "markdown",
      "metadata": {
        "id": "UwH3nliSlLeQ"
      },
      "source": [
        "## Exercise 2:\n",
        "\n",
        "1. Create a Python function to represent the following\n",
        "\\\\[\n",
        "r(t)=4\\cos(2t)-3\\sin(4t)+3\\cos(6t)+8\\sin(9t)\n",
        "\\\\]\n",
        "\n",
        "2. Hence evaluate the following\n",
        "\\\\[\n",
        "    r(-2\\pi), r(0.35\\pi), r(1.98), r(2.56), r(3.15)\n",
        "\\\\]"
      ]
    },
    {
      "cell_type": "code",
      "execution_count": null,
      "metadata": {
        "id": "AUraHGldlLeR",
        "outputId": "06e5cf5b-0788-43ad-af1d-ba66c27c1310"
      },
      "outputs": [
        {
          "data": {
            "text/plain": [
              "(7.0000000000000142,\n",
              " -0.27672590931533581,\n",
              " -10.262912721389259,\n",
              " -5.9857142646092534,\n",
              " 6.2899978198899182)"
            ]
          },
          "execution_count": 57,
          "metadata": {},
          "output_type": "execute_result"
        }
      ],
      "source": [
        "def r(t):\n",
        "    r=4*cos(2*t)-3*sin(4*t)+3*cos(6*t)+8*sin(9*t)\n",
        "    return r\n",
        "\n",
        "r(-2*np.pi), r(0.35*np.pi), r(1.98), r(2.56), r(3.15)\n"
      ]
    },
    {
      "cell_type": "markdown",
      "metadata": {
        "id": "oPUmCTbolLeR"
      },
      "source": [
        "## 4 Plotting Functions\n",
        "### 4.1 Creating Domains for Plotting\n",
        "\n",
        "* When we wish to plot a function $f(x)$ we usually do so over some __domain__, i.e. the range of values for $x$.\n",
        "\n",
        "* To define such a domain in Python we use the __numpy__ function  __np.array__\n",
        "\n",
        "* As an example, we  create the domain $-4\\leq x< 5$ using the following"
      ]
    },
    {
      "cell_type": "code",
      "execution_count": null,
      "metadata": {
        "collapsed": true,
        "id": "19WyTm2PlLeR"
      },
      "outputs": [],
      "source": [
        "x=np.arange(-4,5,0.1)"
      ]
    },
    {
      "cell_type": "markdown",
      "metadata": {
        "id": "m0S4DjxDlLeS"
      },
      "source": [
        "* The __0.1__ appearing as the last argument of the function above is the __step-size__ of the domain.\n",
        "\n",
        "* It instructs Python that the domain should start at $-4$ then go to $-3.9$ then to $-3.8$ and so on until it arrives at $+4.9$.\n",
        "\n",
        "* We can see this if we call the _vector_ __x__, as in the cell below"
      ]
    },
    {
      "cell_type": "code",
      "execution_count": null,
      "metadata": {
        "id": "JRbkgJQ8lLeS",
        "outputId": "3892410f-3d05-4a59-98f7-efad66c3e45f"
      },
      "outputs": [
        {
          "data": {
            "text/plain": [
              "array([ -4.00000000e+00,  -3.90000000e+00,  -3.80000000e+00,\n",
              "        -3.70000000e+00,  -3.60000000e+00,  -3.50000000e+00,\n",
              "        -3.40000000e+00,  -3.30000000e+00,  -3.20000000e+00,\n",
              "        -3.10000000e+00,  -3.00000000e+00,  -2.90000000e+00,\n",
              "        -2.80000000e+00,  -2.70000000e+00,  -2.60000000e+00,\n",
              "        -2.50000000e+00,  -2.40000000e+00,  -2.30000000e+00,\n",
              "        -2.20000000e+00,  -2.10000000e+00,  -2.00000000e+00,\n",
              "        -1.90000000e+00,  -1.80000000e+00,  -1.70000000e+00,\n",
              "        -1.60000000e+00,  -1.50000000e+00,  -1.40000000e+00,\n",
              "        -1.30000000e+00,  -1.20000000e+00,  -1.10000000e+00,\n",
              "        -1.00000000e+00,  -9.00000000e-01,  -8.00000000e-01,\n",
              "        -7.00000000e-01,  -6.00000000e-01,  -5.00000000e-01,\n",
              "        -4.00000000e-01,  -3.00000000e-01,  -2.00000000e-01,\n",
              "        -1.00000000e-01,   3.55271368e-15,   1.00000000e-01,\n",
              "         2.00000000e-01,   3.00000000e-01,   4.00000000e-01,\n",
              "         5.00000000e-01,   6.00000000e-01,   7.00000000e-01,\n",
              "         8.00000000e-01,   9.00000000e-01,   1.00000000e+00,\n",
              "         1.10000000e+00,   1.20000000e+00,   1.30000000e+00,\n",
              "         1.40000000e+00,   1.50000000e+00,   1.60000000e+00,\n",
              "         1.70000000e+00,   1.80000000e+00,   1.90000000e+00,\n",
              "         2.00000000e+00,   2.10000000e+00,   2.20000000e+00,\n",
              "         2.30000000e+00,   2.40000000e+00,   2.50000000e+00,\n",
              "         2.60000000e+00,   2.70000000e+00,   2.80000000e+00,\n",
              "         2.90000000e+00,   3.00000000e+00,   3.10000000e+00,\n",
              "         3.20000000e+00,   3.30000000e+00,   3.40000000e+00,\n",
              "         3.50000000e+00,   3.60000000e+00,   3.70000000e+00,\n",
              "         3.80000000e+00,   3.90000000e+00,   4.00000000e+00,\n",
              "         4.10000000e+00,   4.20000000e+00,   4.30000000e+00,\n",
              "         4.40000000e+00,   4.50000000e+00,   4.60000000e+00,\n",
              "         4.70000000e+00,   4.80000000e+00,   4.90000000e+00])"
            ]
          },
          "execution_count": 59,
          "metadata": {},
          "output_type": "execute_result"
        }
      ],
      "source": [
        "x"
      ]
    },
    {
      "cell_type": "markdown",
      "metadata": {
        "id": "-4sAKJHilLeT"
      },
      "source": [
        "* An array of numbers like this is also called a __vector__."
      ]
    },
    {
      "cell_type": "markdown",
      "metadata": {
        "id": "8JAq5C46lLeT"
      },
      "source": [
        "### 4.2 Plotting a Function using __Pyplot__"
      ]
    },
    {
      "cell_type": "markdown",
      "metadata": {
        "id": "VZSW0Y_nlLeT"
      },
      "source": [
        "* We will now use the function __plot__ from the __matplotlib.pyyplot__ library to plot the functions __f__ and __h__ over the domain __x__.\n",
        "* Since we already called this library as __plt__ above, we will call this function as __plt.plot__\n",
        "* The plot of __f__ is shown in the cell below"
      ]
    },
    {
      "cell_type": "code",
      "execution_count": null,
      "metadata": {
        "id": "LvgGieZblLeT",
        "outputId": "186ffbf1-5b48-4b96-e2a3-736a18c915cc"
      },
      "outputs": [
        {
          "data": {
            "image/png": "[encoded data removed]",
            "text/plain": [
              "<matplotlib.figure.Figure at 0x2d5a38cb7b8>"
            ]
          },
          "metadata": {},
          "output_type": "display_data"
        }
      ],
      "source": [
        "plt.plot(x,f(x),color=\"cornflowerblue\", linewidth=2)\n",
        "plt.show()"
      ]
    },
    {
      "cell_type": "markdown",
      "metadata": {
        "id": "5EdRRd4OlLeU"
      },
      "source": [
        "This command tells to plot function to carry out the following:\n",
        "   1. Plot the domain __x__ on the horizontal axis.\n",
        "   2. Evalute __f__ at each point in __x__ and plot the values on the vertical axis.\n",
        "   3. Use the color __cornflowerblue__  and __linewidth__ 2, when plotting the function.\n",
        "\n",
        "The plot of the funciton __h__ is given by"
      ]
    },
    {
      "cell_type": "code",
      "execution_count": null,
      "metadata": {
        "id": "_D57bXF0lLeU",
        "outputId": "ecf04600-32ba-4dfe-8057-86572b224217"
      },
      "outputs": [
        {
          "data": {
            "image/png": "[encoded data removed]",
            "text/plain": [
              "<matplotlib.figure.Figure at 0x2d5a2f7f8d0>"
            ]
          },
          "metadata": {},
          "output_type": "display_data"
        }
      ],
      "source": [
        "plt.plot(x,h(x),color=\"cornflowerblue\", linewidth=2)\n",
        "plt.show()"
      ]
    },
    {
      "cell_type": "markdown",
      "metadata": {
        "id": "25tFPGPSlLeU"
      },
      "source": [
        "## Exercise 3:\n",
        "\n",
        "* Plot the function __r__ defined above over the domain $4\\pi\\leq s < 10\\pi$.\n",
        "\n",
        "* Change the color of the plot to a color of your choice. A list of Python colors can be found at https://matplotlib.org/examples/color/named_colors.html"
      ]
    },
    {
      "cell_type": "code",
      "execution_count": null,
      "metadata": {
        "id": "Gd3MfOB7lLeU",
        "outputId": "0ffc2f5e-11cd-4e0b-c9cc-17f06d2a8342"
      },
      "outputs": [
        {
          "data": {
            "text/plain": [
              "array([ 12.56637061,  13.56637061,  14.56637061,  15.56637061,\n",
              "        16.56637061,  17.56637061,  18.56637061,  19.56637061,\n",
              "        20.56637061,  21.56637061,  22.56637061,  23.56637061,\n",
              "        24.56637061,  25.56637061,  26.56637061,  27.56637061,\n",
              "        28.56637061,  29.56637061,  30.56637061])"
            ]
          },
          "execution_count": 65,
          "metadata": {},
          "output_type": "execute_result"
        }
      ],
      "source": [
        "s=np.arange(4*np.pi,10*np.pi)\n",
        "s"
      ]
    },
    {
      "cell_type": "code",
      "execution_count": null,
      "metadata": {
        "id": "JurI80oBlLeU",
        "outputId": "716682d3-f0f1-4844-919f-7a0abd078dc7"
      },
      "outputs": [
        {
          "data": {
            "text/plain": [
              "<function matplotlib.pyplot.show>"
            ]
          },
          "execution_count": 66,
          "metadata": {},
          "output_type": "execute_result"
        },
        {
          "data": {
            "image/png": "[encoded data removed]",
            "text/plain": [
              "<matplotlib.figure.Figure at 0x2d5a2f9ef60>"
            ]
          },
          "metadata": {},
          "output_type": "display_data"
        }
      ],
      "source": [
        "plt.plot(s,h(s), color=\"purple\")\n",
        "plt.show"
      ]
    },
    {
      "cell_type": "markdown",
      "metadata": {
        "id": "rpJsGCgElLeV"
      },
      "source": [
        "### 4.4 Piecewise Functions"
      ]
    },
    {
      "cell_type": "markdown",
      "metadata": {
        "id": "CriVyYDvlLeV"
      },
      "source": [
        "* In lectrues you will have encountered examples of functions of the type\n",
        "\\\\[\n",
        "p(k)=\\begin{cases}\n",
        "       -k^2+4 \\text{ for } k<4 \\\\\n",
        "       3k+2\\text{ for }k\\geq 4\n",
        "     \\end{cases}\n",
        "\\\\]\n",
        "* Such a function is called a piecewise function, since it is defined over two pieces, one piece for $k<4$ the other piece for $k\\geq 4$\n",
        "\n",
        "* Such a function can be defined in Python using the __if__ command and the __vectorize__ function\n",
        "\n",
        "* The Python code to create the function $p(k)$ above is given by"
      ]
    },
    {
      "cell_type": "code",
      "execution_count": null,
      "metadata": {
        "collapsed": true,
        "id": "_FRY9LAHlLeW"
      },
      "outputs": [],
      "source": [
        "def p(k):\n",
        "    if k<4:\n",
        "        return -k**2+4\n",
        "    if k>=4:\n",
        "        return 3*k+4"
      ]
    },
    {
      "cell_type": "markdown",
      "metadata": {
        "id": "VlsKgCLRlLeW"
      },
      "source": [
        "* We can now evaluate this function in the usual way. For example, the values\n",
        "\\\\[\n",
        "p(-4), p(-2), p(0), p(4), p(30)\n",
        "\\\\]\n",
        "are given by"
      ]
    },
    {
      "cell_type": "code",
      "execution_count": null,
      "metadata": {
        "id": "bAa9DN_4lLeW",
        "outputId": "d14b9275-f42c-4d1c-d228-63350a1f0d9b"
      },
      "outputs": [
        {
          "data": {
            "text/plain": [
              "(-12, 0, 4, 16, 94)"
            ]
          },
          "execution_count": 38,
          "metadata": {},
          "output_type": "execute_result"
        }
      ],
      "source": [
        "p(-4), p(-2), p(0), p(4), p(30)"
      ]
    },
    {
      "cell_type": "markdown",
      "metadata": {
        "id": "CJV3tt4BlLeX"
      },
      "source": [
        "### 4.5 Plotting Piecewise Functions\n",
        "\n",
        "* If we want to plot the piecewise function __p__ we just defined, then we must apply the __numpy__ function __vectorize__ to __p__ first.\n",
        "\n",
        "* This is because the command __if__ does not work directly on a domain like __x__ or on _any_ __np.array()__.\n",
        "\n",
        "* We will plot __p__ over the domain $-10\\leq k < 10$."
      ]
    },
    {
      "cell_type": "code",
      "execution_count": null,
      "metadata": {
        "collapsed": true,
        "id": "3fT31883lLeX"
      },
      "outputs": [],
      "source": [
        "p=np.vectorize(p)\n",
        "k=np.arange(-10,10,0.05)"
      ]
    },
    {
      "cell_type": "code",
      "execution_count": null,
      "metadata": {
        "id": "eWWFTuwklLeX",
        "outputId": "69439b39-3f15-4673-baad-1646dd0cfb3a"
      },
      "outputs": [
        {
          "data": {
            "image/png": "[encoded data removed]",
            "text/plain": [
              "<matplotlib.figure.Figure at 0x2d5a3965ac8>"
            ]
          },
          "metadata": {},
          "output_type": "display_data"
        }
      ],
      "source": [
        "plt.plot(k,p(k),color=\"red\")\n",
        "plt.show()"
      ]
    },
    {
      "cell_type": "markdown",
      "metadata": {
        "id": "xSdxNG6hlLeY"
      },
      "source": [
        "## Exercise 4\n",
        "\n",
        "Plot the following piecewise functions\n",
        "\\\\[\n",
        "R(x)=\\begin{cases}\n",
        "        -x^2+\\sin(4x)\\text{ for }x<-2\\\\\n",
        "                x+4\\cos(2x)\\text{ for }x\\geq -2\n",
        "     \\end{cases}   \n",
        "\\\\]\n",
        "\n",
        "\\\\[\n",
        "G(x)=\\begin{cases}\n",
        "        x^3+4x-5\\text{ for }x\\leq 3\\\\\n",
        "                4x^3\\text{ for }x> 3\n",
        "     \\end{cases}      \n",
        "\\\\]\n",
        "\n",
        "\\\\[\n",
        "H(x)=\\begin{cases}\n",
        "        x^2+4x+4\\text{ for }x\\leq0\\\\\n",
        "        4x\\text{ for }0<x\\leq4\\\\\n",
        "        4x\\sin(2x) \\text{ for } x> 4\n",
        "     \\end{cases}      \n",
        "\\\\]\n",
        "\n",
        "Each function should be plotted on the domain $-5\\leq u < 10$."
      ]
    },
    {
      "cell_type": "code",
      "execution_count": null,
      "metadata": {
        "id": "ZvSyL3mllLeY",
        "outputId": "d00af1e8-9ebd-452c-dd59-d19a0feaa77b"
      },
      "outputs": [
        {
          "data": {
            "image/png": "[encoded data removed]",
            "text/plain": [
              "<matplotlib.figure.Figure at 0x2d5a3eae860>"
            ]
          },
          "metadata": {},
          "output_type": "display_data"
        }
      ],
      "source": [
        "def r(x):\n",
        "    if x<-2:\n",
        "        return -x**2+sin(4*x)\n",
        "    if x>=-2:\n",
        "        return x+4*cos(2*x)\n",
        "\n",
        "r=np.vectorize(r)\n",
        "x=np.arange(-5,10)\n",
        "\n",
        "plt.plot(x, r(x), color=\"pink\")\n",
        "plt.show()"
      ]
    },
    {
      "cell_type": "code",
      "execution_count": null,
      "metadata": {
        "id": "DbDWP38glLeY",
        "outputId": "0211f7a6-2157-47f4-e322-2e4a95530966"
      },
      "outputs": [
        {
          "data": {
            "image/png": "[encoded data removed]",
            "text/plain": [
              "<matplotlib.figure.Figure at 0x2d5a3e8ddd8>"
            ]
          },
          "metadata": {},
          "output_type": "display_data"
        }
      ],
      "source": [
        "def g(x):\n",
        "    if x<=3:\n",
        "        return x**3+4*x-5\n",
        "    if x>3:\n",
        "        return 4*x**3\n",
        "\n",
        "g=np.vectorize(g)\n",
        "x=np.arange(-5,10)\n",
        "\n",
        "plt.plot(x, g(x), color=\"blue\")\n",
        "plt.show()"
      ]
    },
    {
      "cell_type": "code",
      "execution_count": null,
      "metadata": {
        "id": "6gt9lgGblLeY",
        "outputId": "83c79d95-ead9-4889-e462-729e7caf9494"
      },
      "outputs": [
        {
          "ename": "TypeError",
          "evalue": "int() argument must be a string, a bytes-like object or a number, not 'NoneType'",
          "output_type": "error",
          "traceback": [
            "\u001b[1;31m---------------------------------------------------------------------------\u001b[0m",
            "\u001b[1;31mTypeError\u001b[0m                                 Traceback (most recent call last)",
            "\u001b[1;32m<ipython-input-88-fc645bae0c6a>\u001b[0m in \u001b[0;36m<module>\u001b[1;34m()\u001b[0m\n\u001b[0;32m      8\u001b[0m \u001b[0mx\u001b[0m\u001b[1;33m=\u001b[0m\u001b[0mnp\u001b[0m\u001b[1;33m.\u001b[0m\u001b[0marange\u001b[0m\u001b[1;33m(\u001b[0m\u001b[1;33m-\u001b[0m\u001b[1;36m5\u001b[0m\u001b[1;33m,\u001b[0m\u001b[1;36m10\u001b[0m\u001b[1;33m)\u001b[0m\u001b[1;33m\u001b[0m\u001b[0m\n\u001b[0;32m      9\u001b[0m \u001b[1;33m\u001b[0m\u001b[0m\n\u001b[1;32m---> 10\u001b[1;33m \u001b[0mplt\u001b[0m\u001b[1;33m.\u001b[0m\u001b[0mplot\u001b[0m\u001b[1;33m(\u001b[0m\u001b[0mx\u001b[0m\u001b[1;33m,\u001b[0m \u001b[0mh\u001b[0m\u001b[1;33m(\u001b[0m\u001b[0mx\u001b[0m\u001b[1;33m)\u001b[0m\u001b[1;33m,\u001b[0m \u001b[0mcolor\u001b[0m\u001b[1;33m=\u001b[0m\u001b[1;34m\"pink\"\u001b[0m\u001b[1;33m)\u001b[0m\u001b[1;33m\u001b[0m\u001b[0m\n\u001b[0m\u001b[0;32m     11\u001b[0m \u001b[0mplt\u001b[0m\u001b[1;33m.\u001b[0m\u001b[0mshow\u001b[0m\u001b[1;33m(\u001b[0m\u001b[1;33m)\u001b[0m\u001b[1;33m\u001b[0m\u001b[0m\n",
            "\u001b[1;32mC:\\Users\\emily\\Anaconda3\\lib\\site-packages\\numpy\\lib\\function_base.py\u001b[0m in \u001b[0;36m__call__\u001b[1;34m(self, *args, **kwargs)\u001b[0m\n\u001b[0;32m   2574\u001b[0m             \u001b[0mvargs\u001b[0m\u001b[1;33m.\u001b[0m\u001b[0mextend\u001b[0m\u001b[1;33m(\u001b[0m\u001b[1;33m[\u001b[0m\u001b[0mkwargs\u001b[0m\u001b[1;33m[\u001b[0m\u001b[0m_n\u001b[0m\u001b[1;33m]\u001b[0m \u001b[1;32mfor\u001b[0m \u001b[0m_n\u001b[0m \u001b[1;32min\u001b[0m \u001b[0mnames\u001b[0m\u001b[1;33m]\u001b[0m\u001b[1;33m)\u001b[0m\u001b[1;33m\u001b[0m\u001b[0m\n\u001b[0;32m   2575\u001b[0m \u001b[1;33m\u001b[0m\u001b[0m\n\u001b[1;32m-> 2576\u001b[1;33m         \u001b[1;32mreturn\u001b[0m \u001b[0mself\u001b[0m\u001b[1;33m.\u001b[0m\u001b[0m_vectorize_call\u001b[0m\u001b[1;33m(\u001b[0m\u001b[0mfunc\u001b[0m\u001b[1;33m=\u001b[0m\u001b[0mfunc\u001b[0m\u001b[1;33m,\u001b[0m \u001b[0margs\u001b[0m\u001b[1;33m=\u001b[0m\u001b[0mvargs\u001b[0m\u001b[1;33m)\u001b[0m\u001b[1;33m\u001b[0m\u001b[0m\n\u001b[0m\u001b[0;32m   2577\u001b[0m \u001b[1;33m\u001b[0m\u001b[0m\n\u001b[0;32m   2578\u001b[0m     \u001b[1;32mdef\u001b[0m \u001b[0m_get_ufunc_and_otypes\u001b[0m\u001b[1;33m(\u001b[0m\u001b[0mself\u001b[0m\u001b[1;33m,\u001b[0m \u001b[0mfunc\u001b[0m\u001b[1;33m,\u001b[0m \u001b[0margs\u001b[0m\u001b[1;33m)\u001b[0m\u001b[1;33m:\u001b[0m\u001b[1;33m\u001b[0m\u001b[0m\n",
            "\u001b[1;32mC:\\Users\\emily\\Anaconda3\\lib\\site-packages\\numpy\\lib\\function_base.py\u001b[0m in \u001b[0;36m_vectorize_call\u001b[1;34m(self, func, args)\u001b[0m\n\u001b[0;32m   2653\u001b[0m \u001b[1;33m\u001b[0m\u001b[0m\n\u001b[0;32m   2654\u001b[0m             \u001b[1;32mif\u001b[0m \u001b[0mufunc\u001b[0m\u001b[1;33m.\u001b[0m\u001b[0mnout\u001b[0m \u001b[1;33m==\u001b[0m \u001b[1;36m1\u001b[0m\u001b[1;33m:\u001b[0m\u001b[1;33m\u001b[0m\u001b[0m\n\u001b[1;32m-> 2655\u001b[1;33m                 \u001b[0mres\u001b[0m \u001b[1;33m=\u001b[0m \u001b[0marray\u001b[0m\u001b[1;33m(\u001b[0m\u001b[0moutputs\u001b[0m\u001b[1;33m,\u001b[0m \u001b[0mcopy\u001b[0m\u001b[1;33m=\u001b[0m\u001b[1;32mFalse\u001b[0m\u001b[1;33m,\u001b[0m \u001b[0msubok\u001b[0m\u001b[1;33m=\u001b[0m\u001b[1;32mTrue\u001b[0m\u001b[1;33m,\u001b[0m \u001b[0mdtype\u001b[0m\u001b[1;33m=\u001b[0m\u001b[0motypes\u001b[0m\u001b[1;33m[\u001b[0m\u001b[1;36m0\u001b[0m\u001b[1;33m]\u001b[0m\u001b[1;33m)\u001b[0m\u001b[1;33m\u001b[0m\u001b[0m\n\u001b[0m\u001b[0;32m   2656\u001b[0m             \u001b[1;32melse\u001b[0m\u001b[1;33m:\u001b[0m\u001b[1;33m\u001b[0m\u001b[0m\n\u001b[0;32m   2657\u001b[0m                 res = tuple([array(x, copy=False, subok=True, dtype=t)\n",
            "\u001b[1;31mTypeError\u001b[0m: int() argument must be a string, a bytes-like object or a number, not 'NoneType'"
          ]
        }
      ],
      "source": [
        "def h(x):\n",
        "    if x<=0:\n",
        "        return x**2+4*x+4\n",
        "    if 0<x<=4:\n",
        "        return 4*x\n",
        "\n",
        "h=np.vectorize(h)\n",
        "x=np.arange(-5,10)\n",
        "\n",
        "plt.plot(x, h(x), color=\"pink\")\n",
        "plt.show()"
      ]
    },
    {
      "cell_type": "markdown",
      "metadata": {
        "collapsed": true,
        "id": "tlUaWvUylLeZ"
      },
      "source": [
        "# <span style= \"color:red\" >Submitting Your Work <span>\n",
        "\n",
        "1. When submitting your completed workbook to Moodle, please ensure you save the workbook file in a __zip__ file.\n",
        "2. Save the file as __YourLastName_YourFirstInitial.zip__\n",
        "3. Submit this zip file to the Assignemt page on Moodle.\n",
        "\n",
        "### <span style=\"color:red\"> If the file is not ziped, the file I download can't be read in Jupyter and can't be marked<span>"
      ]
    },
    {
      "cell_type": "code",
      "execution_count": null,
      "metadata": {
        "collapsed": true,
        "id": "GSzWlhkxlLeZ"
      },
      "outputs": [],
      "source": []
    }
  ],
  "metadata": {
    "kernelspec": {
      "display_name": "Python 3",
      "language": "python",
      "name": "python3"
    },
    "language_info": {
      "codemirror_mode": {
        "name": "ipython",
        "version": 3
      },
      "file_extension": ".py",
      "mimetype": "text/x-python",
      "name": "python",
      "nbconvert_exporter": "python",
      "pygments_lexer": "ipython3",
      "version": "3.6.1"
    },
    "colab": {
      "provenance": [],
      "include_colab_link": true
    }
  },
  "nbformat": 4,
  "nbformat_minor": 0
}